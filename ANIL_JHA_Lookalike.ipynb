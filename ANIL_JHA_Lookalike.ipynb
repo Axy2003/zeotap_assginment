{
 "cells": [
  {
   "cell_type": "code",
   "id": "d3238bac0f86e2ad",
   "metadata": {
    "ExecuteTime": {
     "end_time": "2025-01-27T17:47:58.867460Z",
     "start_time": "2025-01-27T17:47:58.863424Z"
    }
   },
   "source": [
    "# FirstName_LastName_Lookalike.ipynb\n",
    "\n",
    "import pandas as pd\n",
    "import numpy as np\n",
    "from sklearn.preprocessing import StandardScaler\n",
    "from sklearn.metrics.pairwise import cosine_similarity\n",
    "\n",
    "from datetime import date"
   ],
   "outputs": [],
   "execution_count": 44
  },
  {
   "metadata": {
    "ExecuteTime": {
     "end_time": "2025-01-27T17:47:59.030219Z",
     "start_time": "2025-01-27T17:47:58.908726Z"
    }
   },
   "cell_type": "code",
   "source": [
    "# Load and preprocess data\n",
    "customers_df = pd.read_csv('Customers.csv')\n",
    "products_df = pd.read_csv('Products.csv')\n",
    "transactions_df = pd.read_csv('Transactions.csv')\n",
    "\n",
    "customers_df = customers_df.fillna({'Region': 'Unknown'})\n",
    "products_df = products_df.dropna()  # Remove products with missing information\n",
    "transactions_df = transactions_df.dropna()\n",
    "\n",
    "# Convert date columns to datetime\n",
    "customers_df['SignupDate'] = pd.to_datetime(customers_df['SignupDate'])\n",
    "transactions_df['TransactionDate'] = pd.to_datetime(transactions_df['TransactionDate'])\n",
    "\n",
    "# Remove duplicates\n",
    "customers_df = customers_df.drop_duplicates(subset='CustomerID')\n",
    "products_df = products_df.drop_duplicates(subset='ProductID')\n",
    "transactions_df = transactions_df.drop_duplicates(subset='TransactionID')\n",
    "\n",
    "# Ensure correct data types\n",
    "transactions_df['Quantity'] = transactions_df['Quantity'].astype(int)\n",
    "transactions_df['TotalValue'] = transactions_df['TotalValue'].astype(float)\n",
    "products_df['Price'] = products_df['Price'].astype(float)\n",
    "\n",
    "# Ensure consistency between datasets\n",
    "valid_customers = set(customers_df['CustomerID'])\n",
    "valid_products = set(products_df['ProductID'])\n",
    "transactions_df = transactions_df[transactions_df['CustomerID'].isin(valid_customers) &\n",
    "                                  transactions_df['ProductID'].isin(valid_products)]\n",
    "\n",
    "print(customers_df.shape)\n",
    "print(products_df.shape)\n",
    "print(transactions_df.shape)\n"
   ],
   "id": "e740cadb14cd2076",
   "outputs": [
    {
     "ename": "FileNotFoundError",
     "evalue": "[Errno 2] No such file or directory: 'Customers.csv'",
     "output_type": "error",
     "traceback": [
      "\u001B[1;31m---------------------------------------------------------------------------\u001B[0m",
      "\u001B[1;31mFileNotFoundError\u001B[0m                         Traceback (most recent call last)",
      "Cell \u001B[1;32mIn[45], line 2\u001B[0m\n\u001B[0;32m      1\u001B[0m \u001B[38;5;66;03m# Load and preprocess data\u001B[39;00m\n\u001B[1;32m----> 2\u001B[0m customers_df \u001B[38;5;241m=\u001B[39m \u001B[43mpd\u001B[49m\u001B[38;5;241;43m.\u001B[39;49m\u001B[43mread_csv\u001B[49m\u001B[43m(\u001B[49m\u001B[38;5;124;43m'\u001B[39;49m\u001B[38;5;124;43mCustomers.csv\u001B[39;49m\u001B[38;5;124;43m'\u001B[39;49m\u001B[43m)\u001B[49m\n\u001B[0;32m      3\u001B[0m products_df \u001B[38;5;241m=\u001B[39m pd\u001B[38;5;241m.\u001B[39mread_csv(\u001B[38;5;124m'\u001B[39m\u001B[38;5;124mProducts.csv\u001B[39m\u001B[38;5;124m'\u001B[39m)\n\u001B[0;32m      4\u001B[0m transactions_df \u001B[38;5;241m=\u001B[39m pd\u001B[38;5;241m.\u001B[39mread_csv(\u001B[38;5;124m'\u001B[39m\u001B[38;5;124mTransactions.csv\u001B[39m\u001B[38;5;124m'\u001B[39m)\n",
      "File \u001B[1;32m~\\AppData\\Local\\Programs\\Python\\Python312\\Lib\\site-packages\\pandas\\io\\parsers\\readers.py:948\u001B[0m, in \u001B[0;36mread_csv\u001B[1;34m(filepath_or_buffer, sep, delimiter, header, names, index_col, usecols, dtype, engine, converters, true_values, false_values, skipinitialspace, skiprows, skipfooter, nrows, na_values, keep_default_na, na_filter, verbose, skip_blank_lines, parse_dates, infer_datetime_format, keep_date_col, date_parser, date_format, dayfirst, cache_dates, iterator, chunksize, compression, thousands, decimal, lineterminator, quotechar, quoting, doublequote, escapechar, comment, encoding, encoding_errors, dialect, on_bad_lines, delim_whitespace, low_memory, memory_map, float_precision, storage_options, dtype_backend)\u001B[0m\n\u001B[0;32m    935\u001B[0m kwds_defaults \u001B[38;5;241m=\u001B[39m _refine_defaults_read(\n\u001B[0;32m    936\u001B[0m     dialect,\n\u001B[0;32m    937\u001B[0m     delimiter,\n\u001B[1;32m   (...)\u001B[0m\n\u001B[0;32m    944\u001B[0m     dtype_backend\u001B[38;5;241m=\u001B[39mdtype_backend,\n\u001B[0;32m    945\u001B[0m )\n\u001B[0;32m    946\u001B[0m kwds\u001B[38;5;241m.\u001B[39mupdate(kwds_defaults)\n\u001B[1;32m--> 948\u001B[0m \u001B[38;5;28;01mreturn\u001B[39;00m \u001B[43m_read\u001B[49m\u001B[43m(\u001B[49m\u001B[43mfilepath_or_buffer\u001B[49m\u001B[43m,\u001B[49m\u001B[43m \u001B[49m\u001B[43mkwds\u001B[49m\u001B[43m)\u001B[49m\n",
      "File \u001B[1;32m~\\AppData\\Local\\Programs\\Python\\Python312\\Lib\\site-packages\\pandas\\io\\parsers\\readers.py:611\u001B[0m, in \u001B[0;36m_read\u001B[1;34m(filepath_or_buffer, kwds)\u001B[0m\n\u001B[0;32m    608\u001B[0m _validate_names(kwds\u001B[38;5;241m.\u001B[39mget(\u001B[38;5;124m\"\u001B[39m\u001B[38;5;124mnames\u001B[39m\u001B[38;5;124m\"\u001B[39m, \u001B[38;5;28;01mNone\u001B[39;00m))\n\u001B[0;32m    610\u001B[0m \u001B[38;5;66;03m# Create the parser.\u001B[39;00m\n\u001B[1;32m--> 611\u001B[0m parser \u001B[38;5;241m=\u001B[39m \u001B[43mTextFileReader\u001B[49m\u001B[43m(\u001B[49m\u001B[43mfilepath_or_buffer\u001B[49m\u001B[43m,\u001B[49m\u001B[43m \u001B[49m\u001B[38;5;241;43m*\u001B[39;49m\u001B[38;5;241;43m*\u001B[39;49m\u001B[43mkwds\u001B[49m\u001B[43m)\u001B[49m\n\u001B[0;32m    613\u001B[0m \u001B[38;5;28;01mif\u001B[39;00m chunksize \u001B[38;5;129;01mor\u001B[39;00m iterator:\n\u001B[0;32m    614\u001B[0m     \u001B[38;5;28;01mreturn\u001B[39;00m parser\n",
      "File \u001B[1;32m~\\AppData\\Local\\Programs\\Python\\Python312\\Lib\\site-packages\\pandas\\io\\parsers\\readers.py:1448\u001B[0m, in \u001B[0;36mTextFileReader.__init__\u001B[1;34m(self, f, engine, **kwds)\u001B[0m\n\u001B[0;32m   1445\u001B[0m     \u001B[38;5;28mself\u001B[39m\u001B[38;5;241m.\u001B[39moptions[\u001B[38;5;124m\"\u001B[39m\u001B[38;5;124mhas_index_names\u001B[39m\u001B[38;5;124m\"\u001B[39m] \u001B[38;5;241m=\u001B[39m kwds[\u001B[38;5;124m\"\u001B[39m\u001B[38;5;124mhas_index_names\u001B[39m\u001B[38;5;124m\"\u001B[39m]\n\u001B[0;32m   1447\u001B[0m \u001B[38;5;28mself\u001B[39m\u001B[38;5;241m.\u001B[39mhandles: IOHandles \u001B[38;5;241m|\u001B[39m \u001B[38;5;28;01mNone\u001B[39;00m \u001B[38;5;241m=\u001B[39m \u001B[38;5;28;01mNone\u001B[39;00m\n\u001B[1;32m-> 1448\u001B[0m \u001B[38;5;28mself\u001B[39m\u001B[38;5;241m.\u001B[39m_engine \u001B[38;5;241m=\u001B[39m \u001B[38;5;28;43mself\u001B[39;49m\u001B[38;5;241;43m.\u001B[39;49m\u001B[43m_make_engine\u001B[49m\u001B[43m(\u001B[49m\u001B[43mf\u001B[49m\u001B[43m,\u001B[49m\u001B[43m \u001B[49m\u001B[38;5;28;43mself\u001B[39;49m\u001B[38;5;241;43m.\u001B[39;49m\u001B[43mengine\u001B[49m\u001B[43m)\u001B[49m\n",
      "File \u001B[1;32m~\\AppData\\Local\\Programs\\Python\\Python312\\Lib\\site-packages\\pandas\\io\\parsers\\readers.py:1705\u001B[0m, in \u001B[0;36mTextFileReader._make_engine\u001B[1;34m(self, f, engine)\u001B[0m\n\u001B[0;32m   1703\u001B[0m     \u001B[38;5;28;01mif\u001B[39;00m \u001B[38;5;124m\"\u001B[39m\u001B[38;5;124mb\u001B[39m\u001B[38;5;124m\"\u001B[39m \u001B[38;5;129;01mnot\u001B[39;00m \u001B[38;5;129;01min\u001B[39;00m mode:\n\u001B[0;32m   1704\u001B[0m         mode \u001B[38;5;241m+\u001B[39m\u001B[38;5;241m=\u001B[39m \u001B[38;5;124m\"\u001B[39m\u001B[38;5;124mb\u001B[39m\u001B[38;5;124m\"\u001B[39m\n\u001B[1;32m-> 1705\u001B[0m \u001B[38;5;28mself\u001B[39m\u001B[38;5;241m.\u001B[39mhandles \u001B[38;5;241m=\u001B[39m \u001B[43mget_handle\u001B[49m\u001B[43m(\u001B[49m\n\u001B[0;32m   1706\u001B[0m \u001B[43m    \u001B[49m\u001B[43mf\u001B[49m\u001B[43m,\u001B[49m\n\u001B[0;32m   1707\u001B[0m \u001B[43m    \u001B[49m\u001B[43mmode\u001B[49m\u001B[43m,\u001B[49m\n\u001B[0;32m   1708\u001B[0m \u001B[43m    \u001B[49m\u001B[43mencoding\u001B[49m\u001B[38;5;241;43m=\u001B[39;49m\u001B[38;5;28;43mself\u001B[39;49m\u001B[38;5;241;43m.\u001B[39;49m\u001B[43moptions\u001B[49m\u001B[38;5;241;43m.\u001B[39;49m\u001B[43mget\u001B[49m\u001B[43m(\u001B[49m\u001B[38;5;124;43m\"\u001B[39;49m\u001B[38;5;124;43mencoding\u001B[39;49m\u001B[38;5;124;43m\"\u001B[39;49m\u001B[43m,\u001B[49m\u001B[43m \u001B[49m\u001B[38;5;28;43;01mNone\u001B[39;49;00m\u001B[43m)\u001B[49m\u001B[43m,\u001B[49m\n\u001B[0;32m   1709\u001B[0m \u001B[43m    \u001B[49m\u001B[43mcompression\u001B[49m\u001B[38;5;241;43m=\u001B[39;49m\u001B[38;5;28;43mself\u001B[39;49m\u001B[38;5;241;43m.\u001B[39;49m\u001B[43moptions\u001B[49m\u001B[38;5;241;43m.\u001B[39;49m\u001B[43mget\u001B[49m\u001B[43m(\u001B[49m\u001B[38;5;124;43m\"\u001B[39;49m\u001B[38;5;124;43mcompression\u001B[39;49m\u001B[38;5;124;43m\"\u001B[39;49m\u001B[43m,\u001B[49m\u001B[43m \u001B[49m\u001B[38;5;28;43;01mNone\u001B[39;49;00m\u001B[43m)\u001B[49m\u001B[43m,\u001B[49m\n\u001B[0;32m   1710\u001B[0m \u001B[43m    \u001B[49m\u001B[43mmemory_map\u001B[49m\u001B[38;5;241;43m=\u001B[39;49m\u001B[38;5;28;43mself\u001B[39;49m\u001B[38;5;241;43m.\u001B[39;49m\u001B[43moptions\u001B[49m\u001B[38;5;241;43m.\u001B[39;49m\u001B[43mget\u001B[49m\u001B[43m(\u001B[49m\u001B[38;5;124;43m\"\u001B[39;49m\u001B[38;5;124;43mmemory_map\u001B[39;49m\u001B[38;5;124;43m\"\u001B[39;49m\u001B[43m,\u001B[49m\u001B[43m \u001B[49m\u001B[38;5;28;43;01mFalse\u001B[39;49;00m\u001B[43m)\u001B[49m\u001B[43m,\u001B[49m\n\u001B[0;32m   1711\u001B[0m \u001B[43m    \u001B[49m\u001B[43mis_text\u001B[49m\u001B[38;5;241;43m=\u001B[39;49m\u001B[43mis_text\u001B[49m\u001B[43m,\u001B[49m\n\u001B[0;32m   1712\u001B[0m \u001B[43m    \u001B[49m\u001B[43merrors\u001B[49m\u001B[38;5;241;43m=\u001B[39;49m\u001B[38;5;28;43mself\u001B[39;49m\u001B[38;5;241;43m.\u001B[39;49m\u001B[43moptions\u001B[49m\u001B[38;5;241;43m.\u001B[39;49m\u001B[43mget\u001B[49m\u001B[43m(\u001B[49m\u001B[38;5;124;43m\"\u001B[39;49m\u001B[38;5;124;43mencoding_errors\u001B[39;49m\u001B[38;5;124;43m\"\u001B[39;49m\u001B[43m,\u001B[49m\u001B[43m \u001B[49m\u001B[38;5;124;43m\"\u001B[39;49m\u001B[38;5;124;43mstrict\u001B[39;49m\u001B[38;5;124;43m\"\u001B[39;49m\u001B[43m)\u001B[49m\u001B[43m,\u001B[49m\n\u001B[0;32m   1713\u001B[0m \u001B[43m    \u001B[49m\u001B[43mstorage_options\u001B[49m\u001B[38;5;241;43m=\u001B[39;49m\u001B[38;5;28;43mself\u001B[39;49m\u001B[38;5;241;43m.\u001B[39;49m\u001B[43moptions\u001B[49m\u001B[38;5;241;43m.\u001B[39;49m\u001B[43mget\u001B[49m\u001B[43m(\u001B[49m\u001B[38;5;124;43m\"\u001B[39;49m\u001B[38;5;124;43mstorage_options\u001B[39;49m\u001B[38;5;124;43m\"\u001B[39;49m\u001B[43m,\u001B[49m\u001B[43m \u001B[49m\u001B[38;5;28;43;01mNone\u001B[39;49;00m\u001B[43m)\u001B[49m\u001B[43m,\u001B[49m\n\u001B[0;32m   1714\u001B[0m \u001B[43m\u001B[49m\u001B[43m)\u001B[49m\n\u001B[0;32m   1715\u001B[0m \u001B[38;5;28;01massert\u001B[39;00m \u001B[38;5;28mself\u001B[39m\u001B[38;5;241m.\u001B[39mhandles \u001B[38;5;129;01mis\u001B[39;00m \u001B[38;5;129;01mnot\u001B[39;00m \u001B[38;5;28;01mNone\u001B[39;00m\n\u001B[0;32m   1716\u001B[0m f \u001B[38;5;241m=\u001B[39m \u001B[38;5;28mself\u001B[39m\u001B[38;5;241m.\u001B[39mhandles\u001B[38;5;241m.\u001B[39mhandle\n",
      "File \u001B[1;32m~\\AppData\\Local\\Programs\\Python\\Python312\\Lib\\site-packages\\pandas\\io\\common.py:863\u001B[0m, in \u001B[0;36mget_handle\u001B[1;34m(path_or_buf, mode, encoding, compression, memory_map, is_text, errors, storage_options)\u001B[0m\n\u001B[0;32m    858\u001B[0m \u001B[38;5;28;01melif\u001B[39;00m \u001B[38;5;28misinstance\u001B[39m(handle, \u001B[38;5;28mstr\u001B[39m):\n\u001B[0;32m    859\u001B[0m     \u001B[38;5;66;03m# Check whether the filename is to be opened in binary mode.\u001B[39;00m\n\u001B[0;32m    860\u001B[0m     \u001B[38;5;66;03m# Binary mode does not support 'encoding' and 'newline'.\u001B[39;00m\n\u001B[0;32m    861\u001B[0m     \u001B[38;5;28;01mif\u001B[39;00m ioargs\u001B[38;5;241m.\u001B[39mencoding \u001B[38;5;129;01mand\u001B[39;00m \u001B[38;5;124m\"\u001B[39m\u001B[38;5;124mb\u001B[39m\u001B[38;5;124m\"\u001B[39m \u001B[38;5;129;01mnot\u001B[39;00m \u001B[38;5;129;01min\u001B[39;00m ioargs\u001B[38;5;241m.\u001B[39mmode:\n\u001B[0;32m    862\u001B[0m         \u001B[38;5;66;03m# Encoding\u001B[39;00m\n\u001B[1;32m--> 863\u001B[0m         handle \u001B[38;5;241m=\u001B[39m \u001B[38;5;28;43mopen\u001B[39;49m\u001B[43m(\u001B[49m\n\u001B[0;32m    864\u001B[0m \u001B[43m            \u001B[49m\u001B[43mhandle\u001B[49m\u001B[43m,\u001B[49m\n\u001B[0;32m    865\u001B[0m \u001B[43m            \u001B[49m\u001B[43mioargs\u001B[49m\u001B[38;5;241;43m.\u001B[39;49m\u001B[43mmode\u001B[49m\u001B[43m,\u001B[49m\n\u001B[0;32m    866\u001B[0m \u001B[43m            \u001B[49m\u001B[43mencoding\u001B[49m\u001B[38;5;241;43m=\u001B[39;49m\u001B[43mioargs\u001B[49m\u001B[38;5;241;43m.\u001B[39;49m\u001B[43mencoding\u001B[49m\u001B[43m,\u001B[49m\n\u001B[0;32m    867\u001B[0m \u001B[43m            \u001B[49m\u001B[43merrors\u001B[49m\u001B[38;5;241;43m=\u001B[39;49m\u001B[43merrors\u001B[49m\u001B[43m,\u001B[49m\n\u001B[0;32m    868\u001B[0m \u001B[43m            \u001B[49m\u001B[43mnewline\u001B[49m\u001B[38;5;241;43m=\u001B[39;49m\u001B[38;5;124;43m\"\u001B[39;49m\u001B[38;5;124;43m\"\u001B[39;49m\u001B[43m,\u001B[49m\n\u001B[0;32m    869\u001B[0m \u001B[43m        \u001B[49m\u001B[43m)\u001B[49m\n\u001B[0;32m    870\u001B[0m     \u001B[38;5;28;01melse\u001B[39;00m:\n\u001B[0;32m    871\u001B[0m         \u001B[38;5;66;03m# Binary mode\u001B[39;00m\n\u001B[0;32m    872\u001B[0m         handle \u001B[38;5;241m=\u001B[39m \u001B[38;5;28mopen\u001B[39m(handle, ioargs\u001B[38;5;241m.\u001B[39mmode)\n",
      "\u001B[1;31mFileNotFoundError\u001B[0m: [Errno 2] No such file or directory: 'Customers.csv'"
     ]
    }
   ],
   "execution_count": 45
  },
  {
   "metadata": {
    "ExecuteTime": {
     "end_time": "2025-01-27T17:47:59.033226100Z",
     "start_time": "2025-01-27T17:47:01.783877Z"
    }
   },
   "cell_type": "code",
   "source": [
    "# Feature engineering\n",
    "def engineer_features(customers, transactions, products):\n",
    "    current_date = pd.Timestamp(date.today())\n",
    "\n",
    "    agg_transactions = transactions.groupby('CustomerID').agg({\n",
    "        'TransactionID': 'count',\n",
    "        'TotalValue': 'sum',\n",
    "        'Quantity': 'sum',\n",
    "        'TransactionDate': ['min', 'max']\n",
    "    })\n",
    "    agg_transactions.columns = ['transaction_count', 'total_spend', 'total_quantity', 'first_purchase', 'last_purchase']\n",
    "\n",
    "    agg_transactions['recency'] = (current_date - agg_transactions['last_purchase']).dt.days\n",
    "    agg_transactions['frequency'] = agg_transactions['transaction_count']\n",
    "    agg_transactions['avg_spend'] = agg_transactions['total_spend'] / agg_transactions['transaction_count']\n",
    "    agg_transactions['customer_lifetime'] = (agg_transactions['last_purchase'] - agg_transactions['first_purchase']).dt.days\n",
    "\n",
    "    customer_features = customers.merge(agg_transactions, left_on='CustomerID', right_index=True, how='left')\n",
    "    customer_features = pd.get_dummies(customer_features, columns=['Region'], prefix='region')\n",
    "    customer_features['days_since_signup'] = (current_date - customer_features['SignupDate']).dt.days\n",
    "    customer_features = customer_features.drop(['CustomerName', 'SignupDate', 'first_purchase', 'last_purchase'], axis=1)\n",
    "    customer_features = customer_features.fillna(0)\n",
    "\n",
    "    return customer_features"
   ],
   "id": "24f22ca27b71ead3",
   "outputs": [],
   "execution_count": 38
  },
  {
   "metadata": {
    "ExecuteTime": {
     "end_time": "2025-01-27T17:47:59.034226700Z",
     "start_time": "2025-01-27T17:47:01.809136Z"
    }
   },
   "cell_type": "code",
   "source": [
    "\n",
    "# Apply feature engineering\n",
    "features = engineer_features(customers_df, transactions_df, products_df)\n",
    "features.head()"
   ],
   "id": "fb06aef37a0f3945",
   "outputs": [
    {
     "data": {
      "text/plain": [
       "  CustomerID  transaction_count  total_spend  total_quantity  recency  \\\n",
       "0      C0001                5.0      3354.52            12.0     85.0   \n",
       "1      C0002                4.0      1862.74            10.0     54.0   \n",
       "2      C0003                4.0      2725.38            14.0    155.0   \n",
       "3      C0004                8.0      5354.88            23.0     34.0   \n",
       "4      C0005                3.0      2034.24             7.0     83.0   \n",
       "\n",
       "   frequency  avg_spend  customer_lifetime  region_Asia  region_Europe  \\\n",
       "0        5.0    670.904              288.0        False          False   \n",
       "1        4.0    465.685              278.0         True          False   \n",
       "2        4.0    681.345              188.0        False          False   \n",
       "3        8.0    669.360              299.0        False          False   \n",
       "4        3.0    678.080              233.0         True          False   \n",
       "\n",
       "   region_North America  region_South America  days_since_signup  \n",
       "0                 False                  True                932  \n",
       "1                 False                 False               1079  \n",
       "2                 False                  True                326  \n",
       "3                 False                  True                841  \n",
       "4                 False                 False                896  "
      ],
      "text/html": [
       "<div>\n",
       "<style scoped>\n",
       "    .dataframe tbody tr th:only-of-type {\n",
       "        vertical-align: middle;\n",
       "    }\n",
       "\n",
       "    .dataframe tbody tr th {\n",
       "        vertical-align: top;\n",
       "    }\n",
       "\n",
       "    .dataframe thead th {\n",
       "        text-align: right;\n",
       "    }\n",
       "</style>\n",
       "<table border=\"1\" class=\"dataframe\">\n",
       "  <thead>\n",
       "    <tr style=\"text-align: right;\">\n",
       "      <th></th>\n",
       "      <th>CustomerID</th>\n",
       "      <th>transaction_count</th>\n",
       "      <th>total_spend</th>\n",
       "      <th>total_quantity</th>\n",
       "      <th>recency</th>\n",
       "      <th>frequency</th>\n",
       "      <th>avg_spend</th>\n",
       "      <th>customer_lifetime</th>\n",
       "      <th>region_Asia</th>\n",
       "      <th>region_Europe</th>\n",
       "      <th>region_North America</th>\n",
       "      <th>region_South America</th>\n",
       "      <th>days_since_signup</th>\n",
       "    </tr>\n",
       "  </thead>\n",
       "  <tbody>\n",
       "    <tr>\n",
       "      <th>0</th>\n",
       "      <td>C0001</td>\n",
       "      <td>5.0</td>\n",
       "      <td>3354.52</td>\n",
       "      <td>12.0</td>\n",
       "      <td>85.0</td>\n",
       "      <td>5.0</td>\n",
       "      <td>670.904</td>\n",
       "      <td>288.0</td>\n",
       "      <td>False</td>\n",
       "      <td>False</td>\n",
       "      <td>False</td>\n",
       "      <td>True</td>\n",
       "      <td>932</td>\n",
       "    </tr>\n",
       "    <tr>\n",
       "      <th>1</th>\n",
       "      <td>C0002</td>\n",
       "      <td>4.0</td>\n",
       "      <td>1862.74</td>\n",
       "      <td>10.0</td>\n",
       "      <td>54.0</td>\n",
       "      <td>4.0</td>\n",
       "      <td>465.685</td>\n",
       "      <td>278.0</td>\n",
       "      <td>True</td>\n",
       "      <td>False</td>\n",
       "      <td>False</td>\n",
       "      <td>False</td>\n",
       "      <td>1079</td>\n",
       "    </tr>\n",
       "    <tr>\n",
       "      <th>2</th>\n",
       "      <td>C0003</td>\n",
       "      <td>4.0</td>\n",
       "      <td>2725.38</td>\n",
       "      <td>14.0</td>\n",
       "      <td>155.0</td>\n",
       "      <td>4.0</td>\n",
       "      <td>681.345</td>\n",
       "      <td>188.0</td>\n",
       "      <td>False</td>\n",
       "      <td>False</td>\n",
       "      <td>False</td>\n",
       "      <td>True</td>\n",
       "      <td>326</td>\n",
       "    </tr>\n",
       "    <tr>\n",
       "      <th>3</th>\n",
       "      <td>C0004</td>\n",
       "      <td>8.0</td>\n",
       "      <td>5354.88</td>\n",
       "      <td>23.0</td>\n",
       "      <td>34.0</td>\n",
       "      <td>8.0</td>\n",
       "      <td>669.360</td>\n",
       "      <td>299.0</td>\n",
       "      <td>False</td>\n",
       "      <td>False</td>\n",
       "      <td>False</td>\n",
       "      <td>True</td>\n",
       "      <td>841</td>\n",
       "    </tr>\n",
       "    <tr>\n",
       "      <th>4</th>\n",
       "      <td>C0005</td>\n",
       "      <td>3.0</td>\n",
       "      <td>2034.24</td>\n",
       "      <td>7.0</td>\n",
       "      <td>83.0</td>\n",
       "      <td>3.0</td>\n",
       "      <td>678.080</td>\n",
       "      <td>233.0</td>\n",
       "      <td>True</td>\n",
       "      <td>False</td>\n",
       "      <td>False</td>\n",
       "      <td>False</td>\n",
       "      <td>896</td>\n",
       "    </tr>\n",
       "  </tbody>\n",
       "</table>\n",
       "</div>"
      ]
     },
     "execution_count": 39,
     "metadata": {},
     "output_type": "execute_result"
    }
   ],
   "execution_count": 39
  },
  {
   "metadata": {
    "ExecuteTime": {
     "end_time": "2025-01-27T17:47:59.045328300Z",
     "start_time": "2025-01-27T17:47:01.973860Z"
    }
   },
   "cell_type": "code",
   "source": [
    "# Normalization (fixed)\n",
    "scaler = StandardScaler()\n",
    "normalized_features = scaler.fit_transform(features.drop('CustomerID', axis=1))\n",
    "print()\n",
    "print(len(normalized_features))\n",
    "print(len(normalized_features[0]))"
   ],
   "id": "8386ee356580f3c6",
   "outputs": [
    {
     "name": "stdout",
     "output_type": "stream",
     "text": [
      "\n",
      "200\n",
      "12\n"
     ]
    }
   ],
   "execution_count": 40
  },
  {
   "metadata": {
    "ExecuteTime": {
     "end_time": "2025-01-27T17:47:59.048281500Z",
     "start_time": "2025-01-27T17:47:02.065021Z"
    }
   },
   "cell_type": "code",
   "source": [
    "# Create mappings\n",
    "customer_id_to_index = {cid: i for i, cid in enumerate(features['CustomerID'])}\n",
    "index_to_customer_id = {i: cid for cid, i in customer_id_to_index.items()}\n",
    "\n",
    "# Calculate similarity\n",
    "similarity_matrix = cosine_similarity(normalized_features)\n",
    "# print(similarity_matrix[0])"
   ],
   "id": "2d75bcb3b131bff4",
   "outputs": [],
   "execution_count": 41
  },
  {
   "metadata": {
    "ExecuteTime": {
     "end_time": "2025-01-27T17:47:59.049263400Z",
     "start_time": "2025-01-27T17:47:02.177046Z"
    }
   },
   "cell_type": "code",
   "source": [
    "def get_top_3_lookalikes(customer_id):\n",
    "    idx = customer_id_to_index[customer_id]\n",
    "    similarities = similarity_matrix[idx]\n",
    "    top_3_indices = np.argsort(similarities)[-4:-1][::-1]  # Exclude self\n",
    "    return [(index_to_customer_id[i], round(similarities[i], 4)) for i in top_3_indices]\n",
    "\n",
    "# Generate results for first 20 customers\n",
    "lookalike_results = {\n",
    "    f'C{cust_id:04d}': get_top_3_lookalikes(f'C{cust_id:04d}')\n",
    "    for cust_id in range(1, 21)\n",
    "}\n",
    "\n",
    "print(lookalike_results)"
   ],
   "id": "36d0b09840f3bb35",
   "outputs": [
    {
     "name": "stdout",
     "output_type": "stream",
     "text": [
      "{'C0001': [('C0152', 0.9834), ('C0107', 0.9289), ('C0174', 0.9257)], 'C0002': [('C0159', 0.9112), ('C0134', 0.9053), ('C0005', 0.8881)], 'C0003': [('C0052', 0.9249), ('C0129', 0.8505), ('C0085', 0.7609)], 'C0004': [('C0113', 0.9818), ('C0165', 0.9771), ('C0099', 0.9547)], 'C0005': [('C0159', 0.9766), ('C0027', 0.9241), ('C0007', 0.8937)], 'C0006': [('C0187', 0.9049), ('C0158', 0.8888), ('C0168', 0.8858)], 'C0007': [('C0005', 0.8937), ('C0027', 0.8719), ('C0040', 0.86)], 'C0008': [('C0098', 0.9006), ('C0156', 0.8979), ('C0065', 0.8616)], 'C0009': [('C0121', 0.9526), ('C0063', 0.8505), ('C0060', 0.8468)], 'C0010': [('C0086', 0.9003), ('C0019', 0.8764), ('C0121', 0.8554)], 'C0011': [('C0174', 0.937), ('C0133', 0.924), ('C0001', 0.9035)], 'C0012': [('C0013', 0.9416), ('C0195', 0.9269), ('C0039', 0.9139)], 'C0013': [('C0087', 0.9463), ('C0012', 0.9416), ('C0039', 0.8891)], 'C0014': [('C0058', 0.8551), ('C0073', 0.8542), ('C0097', 0.8349)], 'C0015': [('C0036', 0.9008), ('C0042', 0.8689), ('C0033', 0.8151)], 'C0016': [('C0026', 0.8642), ('C0067', 0.8485), ('C0072', 0.7781)], 'C0017': [('C0075', 0.9511), ('C0041', 0.9053), ('C0051', 0.905)], 'C0018': [('C0117', 0.9207), ('C0026', 0.8331), ('C0046', 0.8177)], 'C0019': [('C0010', 0.8764), ('C0086', 0.8725), ('C0119', 0.8675)], 'C0020': [('C0144', 0.9571), ('C0058', 0.9315), ('C0110', 0.8479)]}\n"
     ]
    }
   ],
   "execution_count": 42
  },
  {
   "metadata": {
    "collapsed": true,
    "ExecuteTime": {
     "end_time": "2025-01-27T17:47:59.050259900Z",
     "start_time": "2025-01-27T17:47:02.282299Z"
    }
   },
   "cell_type": "code",
   "source": [
    "# Save to CSV\n",
    "pd.DataFrame.from_dict(lookalike_results, orient='index').to_csv('ANIL_JHA_Lookalike.csv')"
   ],
   "id": "initial_id",
   "outputs": [],
   "execution_count": 43
  }
 ],
 "metadata": {
  "kernelspec": {
   "display_name": "Python 3",
   "language": "python",
   "name": "python3"
  },
  "language_info": {
   "codemirror_mode": {
    "name": "ipython",
    "version": 2
   },
   "file_extension": ".py",
   "mimetype": "text/x-python",
   "name": "python",
   "nbconvert_exporter": "python",
   "pygments_lexer": "ipython2",
   "version": "2.7.6"
  }
 },
 "nbformat": 4,
 "nbformat_minor": 5
}
